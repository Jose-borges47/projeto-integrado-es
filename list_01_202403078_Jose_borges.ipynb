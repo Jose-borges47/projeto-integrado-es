{
  "nbformat": 4,
  "nbformat_minor": 0,
  "metadata": {
    "colab": {
      "provenance": [],
      "authorship_tag": "ABX9TyPLARNmE5PWjCQR1dDBwPli",
      "include_colab_link": true
    },
    "kernelspec": {
      "name": "python3",
      "display_name": "Python 3"
    },
    "language_info": {
      "name": "python"
    }
  },
  "cells": [
    {
      "cell_type": "markdown",
      "metadata": {
        "id": "view-in-github",
        "colab_type": "text"
      },
      "source": [
        "<a href=\"https://colab.research.google.com/github/Jose-borges47/ip-2024-01/blob/main/list_01_202403078_Jose_borges.ipynb\" target=\"_parent\"><img src=\"https://colab.research.google.com/assets/colab-badge.svg\" alt=\"Open In Colab\"/></a>"
      ]
    },
    {
      "cell_type": "code",
      "execution_count": null,
      "metadata": {
        "id": "WZizlh7YILta"
      },
      "outputs": [],
      "source": []
    },
    {
      "cell_type": "markdown",
      "source": [],
      "metadata": {
        "id": "whKGsCKFKcIM"
      }
    },
    {
      "cell_type": "markdown",
      "source": [],
      "metadata": {
        "id": "J6LxQfG-Kc9P"
      }
    },
    {
      "cell_type": "markdown",
      "source": [
        "# questão 1\n",
        "\n",
        "Leia (n1 = n2 = n3)\n",
        "\n",
        "x= (n1 +n2 +n3)/3\n",
        "\n",
        "Se x >= 6\n",
        "imprime (x)\n",
        "\n",
        "imprime (aprovado)\n",
        "\n",
        "Se x < 6\n",
        "imprime (x)\n",
        "\n",
        "imprime (reprovado)\n",
        "\n",
        "\n"
      ],
      "metadata": {
        "id": "D4anhheXJOou"
      }
    },
    {
      "cell_type": "code",
      "source": [],
      "metadata": {
        "id": "3nwjETvxJM_X"
      },
      "execution_count": null,
      "outputs": []
    },
    {
      "cell_type": "markdown",
      "source": [],
      "metadata": {
        "id": "_QQmEOQFPuws"
      }
    },
    {
      "cell_type": "markdown",
      "source": [],
      "metadata": {
        "id": "uE42X4bFPz9k"
      }
    },
    {
      "cell_type": "markdown",
      "source": [
        "# questão 2\n",
        "Leia: um número que diz quantos cenários diferentes serão analisados\n",
        "\n",
        "Leia: (quantidade de ingressos vendidos = x) seguida da porcentagem de cada modalidade em cada cenário diferente\n",
        "\n",
        "\n",
        "modalidades:\n",
        "\n",
        "*   Popular = pP\n",
        "*   Geral = pG\n",
        "*   Arquibancada = pA\n",
        "*   cadeira = pC\n",
        "\n",
        "y = renda total\n",
        "\n",
        "imprime (X * pP * 1) + (X * pG * 5) + (X * pA * 10) + (X * pC * 20) = (y)\n",
        "\n",
        "imprime: (a renda total foi) = (y)\n",
        "\n",
        "\n",
        "\n"
      ],
      "metadata": {
        "id": "Uke9CLZyLZJr"
      }
    },
    {
      "cell_type": "markdown",
      "source": [],
      "metadata": {
        "id": "hwqoAgBuVAPv"
      }
    },
    {
      "cell_type": "markdown",
      "source": [
        "\n",
        "#questão 3\n",
        "\n",
        "Leia: três números inteiros separados, sendo eles (n1, n2, n3).\n",
        "\n",
        "n1 = centena ≠ 0 (só deve conter 1 dígito)\n",
        "\n",
        "n2 = dezena (só deve conter 1 dígito)\n",
        "\n",
        "n3 = unidade (só deve conter 1 dígito)\n",
        "\n",
        "Se n1 tiver 1 dígito, N2 tiver 1 dígito e n3 tive 1 dígito.\n",
        "\n",
        "Imprime: a concatenação de (n1+ n2 + n3)\n",
        "\n",
        "Imprime: o quadrado da concatenação de (n1 + n2 + n3)\n",
        "\n",
        "Senão se (n1 ou n2 ou n3) tiver mais de 1 dígito\n",
        "\n",
        "Imprime: \"DÍGITO INVALIDO\"\n",
        "\n",
        "Senão se n1 = 0\n",
        "\n",
        "Imprime: \"DÍGITO INVALIDO\""
      ],
      "metadata": {
        "id": "yhBbGzm7P-CE"
      }
    },
    {
      "cell_type": "markdown",
      "source": [
        "\n",
        "#questão 4\n",
        "\n",
        "Leia: o valor do salário mínimo em R$.\n",
        "\n",
        "Leia: a quantidade de kW gasta por uma residência.\n",
        "\n",
        "Calcule: (70/100 * salário mínimo) = (x), (x)/100 = (y)\n",
        "\n",
        "Calcule: ((y) * a quantidade de kW gasta pela resistência) = (a)\n",
        "\n",
        "Calcule: ((a) - 10/100) = (b)\n",
        "\n",
        "Imprime: \"CUSTO POR kW = R$ (y)\n",
        "\n",
        "Imprime: \"CUSTO DO CONSUMO = R$ (a)\n",
        "\n",
        "Imprime: \"CUSTO COM DESCONTO = R$ (b)"
      ],
      "metadata": {
        "id": "_5F4kRwCQDWz"
      }
    },
    {
      "cell_type": "markdown",
      "source": [
        "\n",
        "#questão 5\n",
        "\n",
        "Leia: (u)\n",
        "Leia: consumo de água por m³ = (y)\n",
        "Leia: (x) = (R) ou (C) ou (I)\n",
        "\n",
        "Imprime: \"CONTA\" = (u)\n",
        "\n",
        "Se (x) = (R)\n",
        "\n",
        "Imprime: (\"VALOR DA CONTA\") = (R$ 5,00 + ((y) * R$ 0,05))\n",
        "\n",
        "Se (x) = (C)\n",
        "\n",
        "Se (y) < 80\n",
        "\n",
        "Imprime: (\"VALOR DA CONTA\") = R$ 500,00\n",
        "\n",
        "Senão\n",
        "\n",
        "Imprime = (\"VALOR DA CONTA\") = ({R$ 500,00 + [((y) - 80) * R$ 0,25]})\n",
        "\n",
        "Se (x) = (I)\n",
        "\n",
        "Se (y) < 100\n",
        "\n",
        "Imprime: (\"VALOR DA CONTA\") = R$ 800,00\n",
        "\n",
        "Senão\n",
        "\n",
        "Imprime: (\"VALOR DA CONTA\") = ({R$ 800,00 + [((y) - 100) * R$ 0,04]})"
      ],
      "metadata": {
        "id": "byyRjlgwW5Js"
      }
    },
    {
      "cell_type": "markdown",
      "source": [],
      "metadata": {
        "id": "QTBFXzEdLEd1"
      }
    },
    {
      "cell_type": "markdown",
      "source": [
        "#quetão 6\n",
        "Leia: C = 5(F - 32)/9 = celsius\n",
        "\n",
        "Leia: F = fahrenheit\n",
        "\n",
        "Leia: um número (a) que representa a quantidade de temperaturas F para serem transformadas em C\n",
        "\n",
        "Leia: um número (F) = (a1 ou a2 ou a3 ... an)\n",
        "\n",
        "imprime: (a)\n",
        "\n",
        "(a1 = F) (\"FAHRENHEIT EQUIVALE A\") C\n",
        "\n",
        "(a2 = F) (\"FAHRENHEIT EQUIVALE A\") C\n",
        "\n",
        "(a3 = F) (\"FAHRENHEIT EQUIVALE A\") C\n",
        "\n",
        "(an = F) (\"FAHRENHEIT EQUIVALE A\") C\n"
      ],
      "metadata": {
        "id": "WIX_mEn7f_jJ"
      }
    },
    {
      "cell_type": "markdown",
      "source": [],
      "metadata": {
        "id": "-7ebBBfqUxlt"
      }
    },
    {
      "cell_type": "markdown",
      "source": [
        "#questão 7\n",
        "\n",
        "\n",
        "(C) = Celsius\n",
        "\n",
        "(F) = fahrenheit\n",
        "\n",
        "1 polegada = (P) = 25.4 mm = (m)\n",
        "\n",
        "Leia: um número (F)\n",
        "\n",
        "calcule o valor de (C) em ((C) = 5 * ((F) - 160)/9)\n",
        "\n",
        "Leia: um número como (P)\n",
        "\n",
        "Calcule o valor de (m) em (P) = 0,25 * (m)\n",
        "\n",
        "imprime: (\"O VALOR EM CELSIUS) = (C)\n",
        "\n",
        "imprime: (\"A QUANTIDADE DE CHUVA E\") = (m)\n",
        "\n"
      ],
      "metadata": {
        "id": "akJdeTs8LGKh"
      }
    },
    {
      "cell_type": "markdown",
      "source": [
        "#questão 8\n",
        "\n",
        "Constante : π = 3,14159\n",
        "\n",
        "Var: (a) = altura/m² (r) = raio/m²\n",
        "\n",
        "Leia: (a)\n",
        "\n",
        "Leia: (r)\n",
        "\n",
        "Área = π * (r²) * 2 + π * (r) * (a) * 2\n",
        "\n",
        "preço = Área * 100\n",
        "\n",
        "Imprime: (\"O VALOR DO CUSTO E =\") (preço)"
      ],
      "metadata": {
        "id": "MKE4yRmoUyg2"
      }
    },
    {
      "cell_type": "markdown",
      "source": [
        "#questão 9\n",
        "\n",
        "Var: (A), (B), (C) : reais\n",
        "\n",
        "Leia: (A)\n",
        "\n",
        "Leia: (B)\n",
        "\n",
        "Leia: (C)\n",
        "\n",
        "Delta = (B)² - 4 * (A) * (C)\n",
        "\n",
        "Imprime: (\"O VALOR DE DELTA E =\") (Delta)"
      ],
      "metadata": {
        "id": "hzMuZKqxaHbG"
      }
    },
    {
      "cell_type": "markdown",
      "source": [
        "#questão 10\n",
        "\n",
        "Var: (a), (b), (c), (d) : reais\n",
        "\n",
        "Leia: (a)\n",
        "\n",
        "Leia: (b)\n",
        "\n",
        "Leia: (c)\n",
        "\n",
        "Leia: (d)\n",
        "\n",
        "detM = (a) * (d) - (b) * (c)\n",
        "\n",
        "Imprime: (\"O VALOR DO DETERMINANTE E=\") (detM)"
      ],
      "metadata": {
        "id": "9K4sXByIcMAK"
      }
    },
    {
      "cell_type": "markdown",
      "source": [
        "#questão 11\n",
        "\n",
        "Leia: (a)\n",
        "\n",
        "Se (a)/3 = real e (a)/5 = real\n",
        "\n",
        "Imprime: (\"O NUMERO E DIVISIVEL\")\n",
        "\n",
        "senão\n",
        "\n",
        "Imprime: (\"O NUMERO NAO E DIVISIVEL\")"
      ],
      "metadata": {
        "id": "L6verOGSdEr-"
      }
    },
    {
      "cell_type": "markdown",
      "source": [
        "#questão 12\n",
        "\n",
        "Var: (a), resto = (b), (c) = inteiro: real\n",
        "\n",
        "leia: (a)\n",
        "\n",
        "Custo: (a)/3 * 10,00 + (b) * 5,00 = (d)\n",
        "\n",
        "Imprime: (\"O VALOR A PAGAR\") = (d)"
      ],
      "metadata": {
        "id": "1JeIm0zHduCO"
      }
    },
    {
      "cell_type": "markdown",
      "source": [
        "#questão 13\n",
        "\n",
        "Var: (n), (-) = entre\n",
        "\n",
        "Leia: (n)\n",
        "\n",
        "Se (n) = (9,0 - 10,0)\n",
        "\n",
        "Imprime: (\"NOTA =\") = (n) (\"CONCEITO\") = (\"A\")\n",
        "\n",
        "Se (n) = (7,5 - 8,9)\n",
        "\n",
        "Imprime: (\"NOTA =\") = (n) (\"CONCEITO\") = (\"B\")\n",
        "\n",
        "Se (n) = (6,0 - 7,4)\n",
        "\n",
        "Imprime: (\"NOTA =\") = (n) (\"CONCEITO\") = (\"C\")\n",
        "\n",
        "Se (n) = (0,0 - 5,9)\n",
        "\n",
        "Imprime: (\"NOTA =\") = (n) (\"CONCEITO\") = (\"D\")"
      ],
      "metadata": {
        "id": "XSwGa978hpQH"
      }
    },
    {
      "cell_type": "markdown",
      "source": [
        "#questão 14\n",
        "\n",
        "Var: (h) = altura, (a) = comprimento : real\n",
        "\n",
        "Leia: (h)\n",
        "\n",
        "Leia: (a)\n",
        "\n",
        "(v) = (3 * (a)² * ✓3)/2 * (h)/3\n",
        "\n",
        "imprime: (\"O VOLUME DA PIRAMIDE E\") = (V)"
      ],
      "metadata": {
        "id": "Q-Wnk_BijrFt"
      }
    },
    {
      "cell_type": "markdown",
      "source": [
        "#questão 15\n",
        "\n",
        "Var: (n) = inteiro par > 5 e < 2000\n",
        "\n",
        "Leia: (n)\n",
        "\n",
        "(n) ="
      ],
      "metadata": {
        "id": "dA76SynumQhb"
      }
    },
    {
      "cell_type": "markdown",
      "source": [
        "#questão 16\n",
        "\n",
        "Var: (a,xy) : real\n",
        "\n",
        "Leia (a,xy)\n",
        "\n",
        "Se (a,xy) < 300\n",
        "\n",
        "(a,xy) * 150/100 = (b)\n",
        "\n",
        "Imprime (\"VALOR COM REAJUSTE =\") (b)\n",
        "\n",
        "Se (a,xy) > 300\n",
        "\n",
        "(a,xy) * 130/100 = (b)\n",
        "\n",
        "Imprime (\"VALOR COM REAJUSTE =\") (b)"
      ],
      "metadata": {
        "id": "TWPZNpuRrzHI"
      }
    },
    {
      "cell_type": "markdown",
      "source": [
        "#questão 17\n",
        "\n",
        "Var: (x), (y)\n",
        "\n",
        "(y) = sequência\n",
        "\n",
        "Leia: (x) e (y)\n",
        "\n",
        "Se (x) = par\n",
        "\n",
        "Imprime: a sequência de (x) (y) vezes\n",
        "\n",
        "Se (x) = ímpar\n",
        "\n",
        "Imprime: (\"O PRIMEIRO NUMERO NAO E PAR\")"
      ],
      "metadata": {
        "id": "4ZNszd9wuOYc"
      }
    },
    {
      "cell_type": "markdown",
      "source": [],
      "metadata": {
        "id": "yf-nSQU_UIms"
      }
    },
    {
      "cell_type": "markdown",
      "source": [
        "#questão 18\n",
        "\n",
        "Var: (a) (r) (n)\n",
        "\n",
        "Leia: (a) (r) (n)\n",
        "\n",
        "imprime: ((a) + ((a) + (r)) + ((a) + (2 * r)) + ((a) + (r 8 n))    \n",
        "\n"
      ],
      "metadata": {
        "id": "ol0FpuFhv6yA"
      }
    },
    {
      "cell_type": "markdown",
      "source": [],
      "metadata": {
        "id": "YWw7OBHaWDye"
      }
    },
    {
      "cell_type": "markdown",
      "source": [
        "#questão 19\n",
        "\n",
        "Var: (n)\n",
        "\n",
        "Leia: (n)\n",
        "\n",
        "(S) = (1+1/n)\n",
        "\n",
        "se (n) = inteiro positivo\n",
        "\n",
        "imprime: (S)\n",
        "\n",
        "se (n) = 1\n",
        "\n",
        "imprime: (NUMERO INVALIDO)"
      ],
      "metadata": {
        "id": "Wxh-QwupUJgQ"
      }
    },
    {
      "cell_type": "markdown",
      "source": [
        "#questão 20\n",
        "\n",
        "VAR: (a) (b) (c)\n",
        "\n",
        "Leia: (a)\n",
        "\n",
        "Leia: (b)\n",
        "\n",
        "Leia: (c)\n",
        "\n",
        "((a) * 60 * 60) = (x)\n",
        "((b) * 60) = (y)\n",
        "\n",
        "imprime: ((x) + (y) + (c))"
      ],
      "metadata": {
        "id": "KlHQuEpuWErb"
      }
    }
  ]
}